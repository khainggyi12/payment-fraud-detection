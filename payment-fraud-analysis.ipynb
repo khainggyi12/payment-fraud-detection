{
 "cells": [
  {
   "cell_type": "code",
   "execution_count": 1,
   "id": "0e6f12ca",
   "metadata": {
    "_cell_guid": "b1076dfc-b9ad-4769-8c92-a6c4dae69d19",
    "_uuid": "8f2839f25d086af736a60e9eeb907d3b93b6e0e5",
    "execution": {
     "iopub.execute_input": "2025-08-05T13:17:25.490411Z",
     "iopub.status.busy": "2025-08-05T13:17:25.490046Z",
     "iopub.status.idle": "2025-08-05T13:17:29.718976Z",
     "shell.execute_reply": "2025-08-05T13:17:29.718027Z"
    },
    "papermill": {
     "duration": 4.237231,
     "end_time": "2025-08-05T13:17:29.720735",
     "exception": false,
     "start_time": "2025-08-05T13:17:25.483504",
     "status": "completed"
    },
    "tags": []
   },
   "outputs": [],
   "source": [
    "#Necessary libraries\n",
    "import pandas as pd\n",
    "import numpy as np\n",
    "from sklearn.model_selection import train_test_split\n",
    "from sklearn.preprocessing import LabelEncoder, StandardScaler\n",
    "from sklearn.impute import SimpleImputer\n",
    "from sklearn.metrics import classification_report\n",
    "from sklearn.svm import SVC\n",
    "from sklearn.ensemble import RandomForestClassifier\n",
    "from sklearn.tree import DecisionTreeClassifier\n",
    "from sklearn.linear_model import LogisticRegression"
   ]
  },
  {
   "cell_type": "code",
   "execution_count": 2,
   "id": "98913220",
   "metadata": {
    "execution": {
     "iopub.execute_input": "2025-08-05T13:17:29.731548Z",
     "iopub.status.busy": "2025-08-05T13:17:29.731038Z",
     "iopub.status.idle": "2025-08-05T13:17:29.832959Z",
     "shell.execute_reply": "2025-08-05T13:17:29.832100Z"
    },
    "papermill": {
     "duration": 0.10901,
     "end_time": "2025-08-05T13:17:29.834648",
     "exception": false,
     "start_time": "2025-08-05T13:17:29.725638",
     "status": "completed"
    },
    "tags": []
   },
   "outputs": [],
   "source": [
    "df = pd.read_csv(\"/kaggle/input/payment-fraud-empowering-financial-security/payment_fraud.csv\")"
   ]
  },
  {
   "cell_type": "markdown",
   "id": "9110f21f",
   "metadata": {
    "papermill": {
     "duration": 0.004342,
     "end_time": "2025-08-05T13:17:29.843496",
     "exception": false,
     "start_time": "2025-08-05T13:17:29.839154",
     "status": "completed"
    },
    "tags": []
   },
   "source": [
    "# First 5 samples of the data"
   ]
  },
  {
   "cell_type": "code",
   "execution_count": 3,
   "id": "cb8f58e0",
   "metadata": {
    "execution": {
     "iopub.execute_input": "2025-08-05T13:17:29.853609Z",
     "iopub.status.busy": "2025-08-05T13:17:29.853290Z",
     "iopub.status.idle": "2025-08-05T13:17:29.881389Z",
     "shell.execute_reply": "2025-08-05T13:17:29.880404Z"
    },
    "papermill": {
     "duration": 0.035098,
     "end_time": "2025-08-05T13:17:29.882916",
     "exception": false,
     "start_time": "2025-08-05T13:17:29.847818",
     "status": "completed"
    },
    "tags": []
   },
   "outputs": [
    {
     "name": "stdout",
     "output_type": "stream",
     "text": [
      "Shape : 39,221 rows × 8 columns\n"
     ]
    },
    {
     "data": {
      "text/html": [
       "<div>\n",
       "<style scoped>\n",
       "    .dataframe tbody tr th:only-of-type {\n",
       "        vertical-align: middle;\n",
       "    }\n",
       "\n",
       "    .dataframe tbody tr th {\n",
       "        vertical-align: top;\n",
       "    }\n",
       "\n",
       "    .dataframe thead th {\n",
       "        text-align: right;\n",
       "    }\n",
       "</style>\n",
       "<table border=\"1\" class=\"dataframe\">\n",
       "  <thead>\n",
       "    <tr style=\"text-align: right;\">\n",
       "      <th></th>\n",
       "      <th>accountAgeDays</th>\n",
       "      <th>numItems</th>\n",
       "      <th>localTime</th>\n",
       "      <th>paymentMethod</th>\n",
       "      <th>paymentMethodAgeDays</th>\n",
       "      <th>Category</th>\n",
       "      <th>isWeekend</th>\n",
       "      <th>label</th>\n",
       "    </tr>\n",
       "  </thead>\n",
       "  <tbody>\n",
       "    <tr>\n",
       "      <th>0</th>\n",
       "      <td>29</td>\n",
       "      <td>1</td>\n",
       "      <td>4.745402</td>\n",
       "      <td>paypal</td>\n",
       "      <td>28.204861</td>\n",
       "      <td>shopping</td>\n",
       "      <td>0.0</td>\n",
       "      <td>0</td>\n",
       "    </tr>\n",
       "    <tr>\n",
       "      <th>1</th>\n",
       "      <td>725</td>\n",
       "      <td>1</td>\n",
       "      <td>4.742303</td>\n",
       "      <td>storecredit</td>\n",
       "      <td>0.000000</td>\n",
       "      <td>electronics</td>\n",
       "      <td>0.0</td>\n",
       "      <td>0</td>\n",
       "    </tr>\n",
       "    <tr>\n",
       "      <th>2</th>\n",
       "      <td>845</td>\n",
       "      <td>1</td>\n",
       "      <td>4.921318</td>\n",
       "      <td>creditcard</td>\n",
       "      <td>0.000000</td>\n",
       "      <td>food</td>\n",
       "      <td>1.0</td>\n",
       "      <td>0</td>\n",
       "    </tr>\n",
       "    <tr>\n",
       "      <th>3</th>\n",
       "      <td>503</td>\n",
       "      <td>1</td>\n",
       "      <td>4.886641</td>\n",
       "      <td>creditcard</td>\n",
       "      <td>0.000000</td>\n",
       "      <td>electronics</td>\n",
       "      <td>1.0</td>\n",
       "      <td>0</td>\n",
       "    </tr>\n",
       "    <tr>\n",
       "      <th>4</th>\n",
       "      <td>2000</td>\n",
       "      <td>1</td>\n",
       "      <td>5.040929</td>\n",
       "      <td>creditcard</td>\n",
       "      <td>0.000000</td>\n",
       "      <td>shopping</td>\n",
       "      <td>0.0</td>\n",
       "      <td>0</td>\n",
       "    </tr>\n",
       "  </tbody>\n",
       "</table>\n",
       "</div>"
      ],
      "text/plain": [
       "   accountAgeDays  numItems  localTime paymentMethod  paymentMethodAgeDays  \\\n",
       "0              29         1   4.745402        paypal             28.204861   \n",
       "1             725         1   4.742303   storecredit              0.000000   \n",
       "2             845         1   4.921318    creditcard              0.000000   \n",
       "3             503         1   4.886641    creditcard              0.000000   \n",
       "4            2000         1   5.040929    creditcard              0.000000   \n",
       "\n",
       "      Category  isWeekend  label  \n",
       "0     shopping        0.0      0  \n",
       "1  electronics        0.0      0  \n",
       "2         food        1.0      0  \n",
       "3  electronics        1.0      0  \n",
       "4     shopping        0.0      0  "
      ]
     },
     "execution_count": 3,
     "metadata": {},
     "output_type": "execute_result"
    }
   ],
   "source": [
    "print(f\"Shape : {df.shape[0]:,} rows × {df.shape[1]} columns\")\n",
    "df.head()"
   ]
  },
  {
   "cell_type": "code",
   "execution_count": 4,
   "id": "ce9ab056",
   "metadata": {
    "execution": {
     "iopub.execute_input": "2025-08-05T13:17:29.893521Z",
     "iopub.status.busy": "2025-08-05T13:17:29.893191Z",
     "iopub.status.idle": "2025-08-05T13:17:29.919723Z",
     "shell.execute_reply": "2025-08-05T13:17:29.918663Z"
    },
    "papermill": {
     "duration": 0.033818,
     "end_time": "2025-08-05T13:17:29.921369",
     "exception": false,
     "start_time": "2025-08-05T13:17:29.887551",
     "status": "completed"
    },
    "tags": []
   },
   "outputs": [
    {
     "name": "stdout",
     "output_type": "stream",
     "text": [
      "<class 'pandas.core.frame.DataFrame'>\n",
      "RangeIndex: 39221 entries, 0 to 39220\n",
      "Data columns (total 8 columns):\n",
      " #   Column                Non-Null Count  Dtype  \n",
      "---  ------                --------------  -----  \n",
      " 0   accountAgeDays        39221 non-null  int64  \n",
      " 1   numItems              39221 non-null  int64  \n",
      " 2   localTime             39221 non-null  float64\n",
      " 3   paymentMethod         39221 non-null  object \n",
      " 4   paymentMethodAgeDays  39221 non-null  float64\n",
      " 5   Category              39126 non-null  object \n",
      " 6   isWeekend             38661 non-null  float64\n",
      " 7   label                 39221 non-null  int64  \n",
      "dtypes: float64(3), int64(3), object(2)\n",
      "memory usage: 2.4+ MB\n"
     ]
    }
   ],
   "source": [
    "df.info()"
   ]
  },
  {
   "cell_type": "markdown",
   "id": "d019be47",
   "metadata": {
    "papermill": {
     "duration": 0.004385,
     "end_time": "2025-08-05T13:17:29.930425",
     "exception": false,
     "start_time": "2025-08-05T13:17:29.926040",
     "status": "completed"
    },
    "tags": []
   },
   "source": [
    "# Numerical feature summary"
   ]
  },
  {
   "cell_type": "code",
   "execution_count": 5,
   "id": "5491372b",
   "metadata": {
    "execution": {
     "iopub.execute_input": "2025-08-05T13:17:29.940881Z",
     "iopub.status.busy": "2025-08-05T13:17:29.940560Z",
     "iopub.status.idle": "2025-08-05T13:17:29.980195Z",
     "shell.execute_reply": "2025-08-05T13:17:29.979082Z"
    },
    "papermill": {
     "duration": 0.046552,
     "end_time": "2025-08-05T13:17:29.981656",
     "exception": false,
     "start_time": "2025-08-05T13:17:29.935104",
     "status": "completed"
    },
    "tags": []
   },
   "outputs": [
    {
     "name": "stdout",
     "output_type": "stream",
     "text": [
      "\n",
      "Numerical feature summary:\n"
     ]
    },
    {
     "data": {
      "text/html": [
       "<div>\n",
       "<style scoped>\n",
       "    .dataframe tbody tr th:only-of-type {\n",
       "        vertical-align: middle;\n",
       "    }\n",
       "\n",
       "    .dataframe tbody tr th {\n",
       "        vertical-align: top;\n",
       "    }\n",
       "\n",
       "    .dataframe thead th {\n",
       "        text-align: right;\n",
       "    }\n",
       "</style>\n",
       "<table border=\"1\" class=\"dataframe\">\n",
       "  <thead>\n",
       "    <tr style=\"text-align: right;\">\n",
       "      <th></th>\n",
       "      <th>count</th>\n",
       "      <th>mean</th>\n",
       "      <th>std</th>\n",
       "      <th>min</th>\n",
       "      <th>25%</th>\n",
       "      <th>50%</th>\n",
       "      <th>75%</th>\n",
       "      <th>max</th>\n",
       "    </tr>\n",
       "  </thead>\n",
       "  <tbody>\n",
       "    <tr>\n",
       "      <th>accountAgeDays</th>\n",
       "      <td>39221.0</td>\n",
       "      <td>857.563984</td>\n",
       "      <td>804.788212</td>\n",
       "      <td>1.000000</td>\n",
       "      <td>72.000000</td>\n",
       "      <td>603.000000</td>\n",
       "      <td>1804.000000</td>\n",
       "      <td>2000.000000</td>\n",
       "    </tr>\n",
       "    <tr>\n",
       "      <th>numItems</th>\n",
       "      <td>39221.0</td>\n",
       "      <td>1.084751</td>\n",
       "      <td>0.566899</td>\n",
       "      <td>1.000000</td>\n",
       "      <td>1.000000</td>\n",
       "      <td>1.000000</td>\n",
       "      <td>1.000000</td>\n",
       "      <td>29.000000</td>\n",
       "    </tr>\n",
       "    <tr>\n",
       "      <th>localTime</th>\n",
       "      <td>39221.0</td>\n",
       "      <td>4.748232</td>\n",
       "      <td>0.389360</td>\n",
       "      <td>0.421214</td>\n",
       "      <td>4.742303</td>\n",
       "      <td>4.886641</td>\n",
       "      <td>4.962055</td>\n",
       "      <td>5.040929</td>\n",
       "    </tr>\n",
       "    <tr>\n",
       "      <th>paymentMethodAgeDays</th>\n",
       "      <td>39221.0</td>\n",
       "      <td>122.641326</td>\n",
       "      <td>283.569177</td>\n",
       "      <td>0.000000</td>\n",
       "      <td>0.000000</td>\n",
       "      <td>0.012500</td>\n",
       "      <td>87.510417</td>\n",
       "      <td>1999.580556</td>\n",
       "    </tr>\n",
       "    <tr>\n",
       "      <th>isWeekend</th>\n",
       "      <td>38661.0</td>\n",
       "      <td>0.499547</td>\n",
       "      <td>0.500006</td>\n",
       "      <td>0.000000</td>\n",
       "      <td>0.000000</td>\n",
       "      <td>0.000000</td>\n",
       "      <td>1.000000</td>\n",
       "      <td>1.000000</td>\n",
       "    </tr>\n",
       "    <tr>\n",
       "      <th>label</th>\n",
       "      <td>39221.0</td>\n",
       "      <td>0.014278</td>\n",
       "      <td>0.118636</td>\n",
       "      <td>0.000000</td>\n",
       "      <td>0.000000</td>\n",
       "      <td>0.000000</td>\n",
       "      <td>0.000000</td>\n",
       "      <td>1.000000</td>\n",
       "    </tr>\n",
       "  </tbody>\n",
       "</table>\n",
       "</div>"
      ],
      "text/plain": [
       "                        count        mean         std       min        25%  \\\n",
       "accountAgeDays        39221.0  857.563984  804.788212  1.000000  72.000000   \n",
       "numItems              39221.0    1.084751    0.566899  1.000000   1.000000   \n",
       "localTime             39221.0    4.748232    0.389360  0.421214   4.742303   \n",
       "paymentMethodAgeDays  39221.0  122.641326  283.569177  0.000000   0.000000   \n",
       "isWeekend             38661.0    0.499547    0.500006  0.000000   0.000000   \n",
       "label                 39221.0    0.014278    0.118636  0.000000   0.000000   \n",
       "\n",
       "                             50%          75%          max  \n",
       "accountAgeDays        603.000000  1804.000000  2000.000000  \n",
       "numItems                1.000000     1.000000    29.000000  \n",
       "localTime               4.886641     4.962055     5.040929  \n",
       "paymentMethodAgeDays    0.012500    87.510417  1999.580556  \n",
       "isWeekend               0.000000     1.000000     1.000000  \n",
       "label                   0.000000     0.000000     1.000000  "
      ]
     },
     "metadata": {},
     "output_type": "display_data"
    }
   ],
   "source": [
    "num_feats = df.select_dtypes(include=[np.number]).columns\n",
    "print(\"\\nNumerical feature summary:\")\n",
    "display(df[num_feats].describe().T)"
   ]
  },
  {
   "cell_type": "markdown",
   "id": "9cab9d8d",
   "metadata": {
    "papermill": {
     "duration": 0.005459,
     "end_time": "2025-08-05T13:17:29.992007",
     "exception": false,
     "start_time": "2025-08-05T13:17:29.986548",
     "status": "completed"
    },
    "tags": []
   },
   "source": [
    "# Categorical feature summary"
   ]
  },
  {
   "cell_type": "code",
   "execution_count": 6,
   "id": "16e14641",
   "metadata": {
    "execution": {
     "iopub.execute_input": "2025-08-05T13:17:30.003223Z",
     "iopub.status.busy": "2025-08-05T13:17:30.002870Z",
     "iopub.status.idle": "2025-08-05T13:17:30.016859Z",
     "shell.execute_reply": "2025-08-05T13:17:30.015668Z"
    },
    "papermill": {
     "duration": 0.021687,
     "end_time": "2025-08-05T13:17:30.018682",
     "exception": false,
     "start_time": "2025-08-05T13:17:29.996995",
     "status": "completed"
    },
    "tags": []
   },
   "outputs": [
    {
     "name": "stdout",
     "output_type": "stream",
     "text": [
      "\n",
      "Categorical feature summary:\n",
      "\n",
      "paymentMethod – unique values (3):\n",
      "paymentMethod\n",
      "creditcard     28004\n",
      "paypal          9303\n",
      "storecredit     1914\n",
      "Name: count, dtype: int64\n",
      "\n",
      "Category – unique values (3):\n",
      "Category\n",
      "shopping       13328\n",
      "food           12964\n",
      "electronics    12834\n",
      "NaN               95\n",
      "Name: count, dtype: int64\n"
     ]
    }
   ],
   "source": [
    "cat_feats = df.select_dtypes(exclude=[np.number]).columns\n",
    "print(\"\\nCategorical feature summary:\")\n",
    "for c in cat_feats:\n",
    "    print(f\"\\n{c} – unique values ({df[c].nunique()}):\")\n",
    "    print(df[c].value_counts(dropna=False).head(10))"
   ]
  },
  {
   "cell_type": "markdown",
   "id": "8187df72",
   "metadata": {
    "papermill": {
     "duration": 0.004469,
     "end_time": "2025-08-05T13:17:30.028149",
     "exception": false,
     "start_time": "2025-08-05T13:17:30.023680",
     "status": "completed"
    },
    "tags": []
   },
   "source": [
    "# Number of NaNs in each colum"
   ]
  },
  {
   "cell_type": "code",
   "execution_count": 7,
   "id": "ebe80176",
   "metadata": {
    "execution": {
     "iopub.execute_input": "2025-08-05T13:17:30.039372Z",
     "iopub.status.busy": "2025-08-05T13:17:30.039049Z",
     "iopub.status.idle": "2025-08-05T13:17:30.056245Z",
     "shell.execute_reply": "2025-08-05T13:17:30.055026Z"
    },
    "papermill": {
     "duration": 0.024711,
     "end_time": "2025-08-05T13:17:30.057973",
     "exception": false,
     "start_time": "2025-08-05T13:17:30.033262",
     "status": "completed"
    },
    "tags": []
   },
   "outputs": [
    {
     "name": "stdout",
     "output_type": "stream",
     "text": [
      "\n",
      "Number of NaNs in each colum:\n",
      "accountAgeDays            0\n",
      "numItems                  0\n",
      "localTime                 0\n",
      "paymentMethod             0\n",
      "paymentMethodAgeDays      0\n",
      "Category                 95\n",
      "isWeekend               560\n",
      "label                     0\n",
      "dtype: int64\n",
      "Total missing values: 655\n"
     ]
    }
   ],
   "source": [
    "print(\"\\nNumber of NaNs in each colum:\")\n",
    "print(df.isna().sum())\n",
    "total_missing = df.isna().sum().sum()\n",
    "print(\"Total missing values:\", total_missing)"
   ]
  },
  {
   "cell_type": "markdown",
   "id": "3115c41a",
   "metadata": {
    "papermill": {
     "duration": 0.004582,
     "end_time": "2025-08-05T13:17:30.067838",
     "exception": false,
     "start_time": "2025-08-05T13:17:30.063256",
     "status": "completed"
    },
    "tags": []
   },
   "source": [
    "# Filling Missing value with mode"
   ]
  },
  {
   "cell_type": "code",
   "execution_count": 8,
   "id": "4a24a18e",
   "metadata": {
    "execution": {
     "iopub.execute_input": "2025-08-05T13:17:30.078953Z",
     "iopub.status.busy": "2025-08-05T13:17:30.078609Z",
     "iopub.status.idle": "2025-08-05T13:17:30.094297Z",
     "shell.execute_reply": "2025-08-05T13:17:30.093345Z"
    },
    "papermill": {
     "duration": 0.02323,
     "end_time": "2025-08-05T13:17:30.095827",
     "exception": false,
     "start_time": "2025-08-05T13:17:30.072597",
     "status": "completed"
    },
    "tags": []
   },
   "outputs": [],
   "source": [
    "df.fillna({'Category': df['Category'].mode()[0]}, inplace=True)\n",
    "\n",
    "df.fillna({'isWeekend': df['isWeekend'].mode()[0]}, inplace=True)"
   ]
  },
  {
   "cell_type": "markdown",
   "id": "9f14182f",
   "metadata": {
    "papermill": {
     "duration": 0.00466,
     "end_time": "2025-08-05T13:17:30.105685",
     "exception": false,
     "start_time": "2025-08-05T13:17:30.101025",
     "status": "completed"
    },
    "tags": []
   },
   "source": [
    "# Encode Categorical Features"
   ]
  },
  {
   "cell_type": "code",
   "execution_count": 9,
   "id": "4b302578",
   "metadata": {
    "execution": {
     "iopub.execute_input": "2025-08-05T13:17:30.116376Z",
     "iopub.status.busy": "2025-08-05T13:17:30.116044Z",
     "iopub.status.idle": "2025-08-05T13:17:30.136383Z",
     "shell.execute_reply": "2025-08-05T13:17:30.135537Z"
    },
    "papermill": {
     "duration": 0.027486,
     "end_time": "2025-08-05T13:17:30.137893",
     "exception": false,
     "start_time": "2025-08-05T13:17:30.110407",
     "status": "completed"
    },
    "tags": []
   },
   "outputs": [],
   "source": [
    "cat_cols = ['paymentMethod', 'Category']\n",
    "le = LabelEncoder()\n",
    "\n",
    "for col in cat_cols:\n",
    "    df[col] = le.fit_transform(df[col])"
   ]
  },
  {
   "cell_type": "markdown",
   "id": "6d448611",
   "metadata": {
    "papermill": {
     "duration": 0.004502,
     "end_time": "2025-08-05T13:17:30.147377",
     "exception": false,
     "start_time": "2025-08-05T13:17:30.142875",
     "status": "completed"
    },
    "tags": []
   },
   "source": [
    "# Define Features and Target"
   ]
  },
  {
   "cell_type": "code",
   "execution_count": 10,
   "id": "74b2a8a7",
   "metadata": {
    "execution": {
     "iopub.execute_input": "2025-08-05T13:17:30.158372Z",
     "iopub.status.busy": "2025-08-05T13:17:30.157959Z",
     "iopub.status.idle": "2025-08-05T13:17:30.165844Z",
     "shell.execute_reply": "2025-08-05T13:17:30.164861Z"
    },
    "papermill": {
     "duration": 0.015476,
     "end_time": "2025-08-05T13:17:30.167682",
     "exception": false,
     "start_time": "2025-08-05T13:17:30.152206",
     "status": "completed"
    },
    "tags": []
   },
   "outputs": [],
   "source": [
    "X = df.drop('label', axis=1)\n",
    "y = df['label']"
   ]
  },
  {
   "cell_type": "markdown",
   "id": "7326a270",
   "metadata": {
    "papermill": {
     "duration": 0.004578,
     "end_time": "2025-08-05T13:17:30.177331",
     "exception": false,
     "start_time": "2025-08-05T13:17:30.172753",
     "status": "completed"
    },
    "tags": []
   },
   "source": [
    "# Standardize numerical features"
   ]
  },
  {
   "cell_type": "code",
   "execution_count": 11,
   "id": "18b539d0",
   "metadata": {
    "execution": {
     "iopub.execute_input": "2025-08-05T13:17:30.188672Z",
     "iopub.status.busy": "2025-08-05T13:17:30.188245Z",
     "iopub.status.idle": "2025-08-05T13:17:30.232393Z",
     "shell.execute_reply": "2025-08-05T13:17:30.231421Z"
    },
    "papermill": {
     "duration": 0.051554,
     "end_time": "2025-08-05T13:17:30.234036",
     "exception": false,
     "start_time": "2025-08-05T13:17:30.182482",
     "status": "completed"
    },
    "tags": []
   },
   "outputs": [],
   "source": [
    "scaler = StandardScaler()\n",
    "X_scaled = scaler.fit_transform(X)"
   ]
  },
  {
   "cell_type": "markdown",
   "id": "34fbd1c4",
   "metadata": {
    "papermill": {
     "duration": 0.004622,
     "end_time": "2025-08-05T13:17:30.244025",
     "exception": false,
     "start_time": "2025-08-05T13:17:30.239403",
     "status": "completed"
    },
    "tags": []
   },
   "source": [
    "# Train/Test Split(80:20)"
   ]
  },
  {
   "cell_type": "code",
   "execution_count": 12,
   "id": "61a51e63",
   "metadata": {
    "execution": {
     "iopub.execute_input": "2025-08-05T13:17:30.254745Z",
     "iopub.status.busy": "2025-08-05T13:17:30.254455Z",
     "iopub.status.idle": "2025-08-05T13:17:30.280343Z",
     "shell.execute_reply": "2025-08-05T13:17:30.279493Z"
    },
    "papermill": {
     "duration": 0.033327,
     "end_time": "2025-08-05T13:17:30.282022",
     "exception": false,
     "start_time": "2025-08-05T13:17:30.248695",
     "status": "completed"
    },
    "tags": []
   },
   "outputs": [],
   "source": [
    "X_train, X_test, y_train, y_test = train_test_split(X_scaled, y, test_size=0.2, random_state=42, stratify=y)"
   ]
  },
  {
   "cell_type": "markdown",
   "id": "6339e98a",
   "metadata": {
    "papermill": {
     "duration": 0.004574,
     "end_time": "2025-08-05T13:17:30.291986",
     "exception": false,
     "start_time": "2025-08-05T13:17:30.287412",
     "status": "completed"
    },
    "tags": []
   },
   "source": [
    "# Logistic Regression"
   ]
  },
  {
   "cell_type": "code",
   "execution_count": 13,
   "id": "5c493f9f",
   "metadata": {
    "execution": {
     "iopub.execute_input": "2025-08-05T13:17:30.303590Z",
     "iopub.status.busy": "2025-08-05T13:17:30.303238Z",
     "iopub.status.idle": "2025-08-05T13:17:30.595023Z",
     "shell.execute_reply": "2025-08-05T13:17:30.593881Z"
    },
    "papermill": {
     "duration": 0.300557,
     "end_time": "2025-08-05T13:17:30.597745",
     "exception": false,
     "start_time": "2025-08-05T13:17:30.297188",
     "status": "completed"
    },
    "tags": []
   },
   "outputs": [
    {
     "name": "stdout",
     "output_type": "stream",
     "text": [
      "Logistic Regression:\n",
      "               precision    recall  f1-score   support\n",
      "\n",
      "           0       0.99      1.00      0.99      7733\n",
      "           1       0.57      0.04      0.07       112\n",
      "\n",
      "    accuracy                           0.99      7845\n",
      "   macro avg       0.78      0.52      0.53      7845\n",
      "weighted avg       0.98      0.99      0.98      7845\n",
      "\n"
     ]
    }
   ],
   "source": [
    "lr = LogisticRegression()\n",
    "lr.fit(X_train, y_train)\n",
    "y_pred_lr = lr.predict(X_test)\n",
    "print(\"Logistic Regression:\\n\", classification_report(y_test, y_pred_lr))"
   ]
  },
  {
   "cell_type": "markdown",
   "id": "6c21cf34",
   "metadata": {
    "papermill": {
     "duration": 0.00844,
     "end_time": "2025-08-05T13:17:30.615009",
     "exception": false,
     "start_time": "2025-08-05T13:17:30.606569",
     "status": "completed"
    },
    "tags": []
   },
   "source": [
    "# Decision Tree"
   ]
  },
  {
   "cell_type": "code",
   "execution_count": 14,
   "id": "c9a91b35",
   "metadata": {
    "execution": {
     "iopub.execute_input": "2025-08-05T13:17:30.634381Z",
     "iopub.status.busy": "2025-08-05T13:17:30.633496Z",
     "iopub.status.idle": "2025-08-05T13:17:30.679128Z",
     "shell.execute_reply": "2025-08-05T13:17:30.677909Z"
    },
    "papermill": {
     "duration": 0.058033,
     "end_time": "2025-08-05T13:17:30.681288",
     "exception": false,
     "start_time": "2025-08-05T13:17:30.623255",
     "status": "completed"
    },
    "tags": []
   },
   "outputs": [
    {
     "name": "stdout",
     "output_type": "stream",
     "text": [
      "Decision Tree:\n",
      "               precision    recall  f1-score   support\n",
      "\n",
      "           0       1.00      1.00      1.00      7733\n",
      "           1       1.00      1.00      1.00       112\n",
      "\n",
      "    accuracy                           1.00      7845\n",
      "   macro avg       1.00      1.00      1.00      7845\n",
      "weighted avg       1.00      1.00      1.00      7845\n",
      "\n"
     ]
    }
   ],
   "source": [
    "dt = DecisionTreeClassifier()\n",
    "dt.fit(X_train, y_train)\n",
    "y_pred_dt = dt.predict(X_test)\n",
    "print(\"Decision Tree:\\n\", classification_report(y_test, y_pred_dt))"
   ]
  },
  {
   "cell_type": "markdown",
   "id": "6435e54f",
   "metadata": {
    "papermill": {
     "duration": 0.005136,
     "end_time": "2025-08-05T13:17:30.693714",
     "exception": false,
     "start_time": "2025-08-05T13:17:30.688578",
     "status": "completed"
    },
    "tags": []
   },
   "source": [
    "# Random Forest"
   ]
  },
  {
   "cell_type": "code",
   "execution_count": 15,
   "id": "6ea5f821",
   "metadata": {
    "execution": {
     "iopub.execute_input": "2025-08-05T13:17:30.705548Z",
     "iopub.status.busy": "2025-08-05T13:17:30.705209Z",
     "iopub.status.idle": "2025-08-05T13:17:31.624625Z",
     "shell.execute_reply": "2025-08-05T13:17:31.623553Z"
    },
    "papermill": {
     "duration": 0.927178,
     "end_time": "2025-08-05T13:17:31.626139",
     "exception": false,
     "start_time": "2025-08-05T13:17:30.698961",
     "status": "completed"
    },
    "tags": []
   },
   "outputs": [
    {
     "name": "stdout",
     "output_type": "stream",
     "text": [
      "Random Forest:\n",
      "               precision    recall  f1-score   support\n",
      "\n",
      "           0       1.00      1.00      1.00      7733\n",
      "           1       1.00      1.00      1.00       112\n",
      "\n",
      "    accuracy                           1.00      7845\n",
      "   macro avg       1.00      1.00      1.00      7845\n",
      "weighted avg       1.00      1.00      1.00      7845\n",
      "\n"
     ]
    }
   ],
   "source": [
    "rf = RandomForestClassifier()\n",
    "rf.fit(X_train, y_train)\n",
    "y_pred_rf = rf.predict(X_test)\n",
    "print(\"Random Forest:\\n\", classification_report(y_test, y_pred_rf))"
   ]
  }
 ],
 "metadata": {
  "kaggle": {
   "accelerator": "none",
   "dataSources": [
    {
     "datasetId": 7994063,
     "sourceId": 12649676,
     "sourceType": "datasetVersion"
    }
   ],
   "dockerImageVersionId": 31089,
   "isGpuEnabled": false,
   "isInternetEnabled": true,
   "language": "python",
   "sourceType": "notebook"
  },
  "kernelspec": {
   "display_name": "Python 3",
   "language": "python",
   "name": "python3"
  },
  "language_info": {
   "codemirror_mode": {
    "name": "ipython",
    "version": 3
   },
   "file_extension": ".py",
   "mimetype": "text/x-python",
   "name": "python",
   "nbconvert_exporter": "python",
   "pygments_lexer": "ipython3",
   "version": "3.11.13"
  },
  "papermill": {
   "default_parameters": {},
   "duration": 12.013406,
   "end_time": "2025-08-05T13:17:32.351906",
   "environment_variables": {},
   "exception": null,
   "input_path": "__notebook__.ipynb",
   "output_path": "__notebook__.ipynb",
   "parameters": {},
   "start_time": "2025-08-05T13:17:20.338500",
   "version": "2.6.0"
  }
 },
 "nbformat": 4,
 "nbformat_minor": 5
}
